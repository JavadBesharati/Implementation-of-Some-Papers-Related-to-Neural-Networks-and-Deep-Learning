{
 "cells": [
  {
   "cell_type": "markdown",
   "metadata": {},
   "source": [
    "# Question 3"
   ]
  },
  {
   "cell_type": "markdown",
   "metadata": {},
   "source": [
    "# Import Libraries"
   ]
  },
  {
   "cell_type": "code",
   "execution_count": 1,
   "metadata": {},
   "outputs": [
    {
     "name": "stderr",
     "output_type": "stream",
     "text": [
      "2023-11-09 11:29:51.424292: I tensorflow/tsl/cuda/cudart_stub.cc:28] Could not find cuda drivers on your machine, GPU will not be used.\n",
      "2023-11-09 11:29:51.456578: I tensorflow/tsl/cuda/cudart_stub.cc:28] Could not find cuda drivers on your machine, GPU will not be used.\n",
      "2023-11-09 11:29:51.457166: I tensorflow/core/platform/cpu_feature_guard.cc:182] This TensorFlow binary is optimized to use available CPU instructions in performance-critical operations.\n",
      "To enable the following instructions: AVX2 FMA, in other operations, rebuild TensorFlow with the appropriate compiler flags.\n",
      "2023-11-09 11:29:52.500840: W tensorflow/compiler/tf2tensorrt/utils/py_utils.cc:38] TF-TRT Warning: Could not find TensorRT\n"
     ]
    }
   ],
   "source": [
    "import numpy as np\n",
    "import tensorflow as tf\n",
    "import matplotlib.pyplot as plt\n",
    "from sklearn.metrics import adjusted_rand_score\n",
    "from keras.layers import Input, Dense, Activation\n",
    "from keras.models import Model\n",
    "from keras.datasets import mnist\n",
    "from sklearn.cluster import KMeans\n",
    "from sklearn.model_selection import train_test_split\n",
    "from keras.optimizers import Adam\n",
    "from tensorflow.python.ops.numpy_ops import np_config\n",
    "np_config.enable_numpy_behavior()\n",
    "from keras.callbacks import LearningRateScheduler"
   ]
  },
  {
   "cell_type": "code",
   "execution_count": 2,
   "metadata": {},
   "outputs": [],
   "source": [
    "(X_train, Y_train), (X_test, Y_test) = mnist.load_data()"
   ]
  },
  {
   "cell_type": "code",
   "execution_count": 3,
   "metadata": {},
   "outputs": [],
   "source": [
    "X_train_flatten = X_train.reshape(X_train.shape[0], -1)\n",
    "X_test_flatten = X_test.reshape(X_test.shape[0], -1)"
   ]
  },
  {
   "cell_type": "code",
   "execution_count": 4,
   "metadata": {},
   "outputs": [],
   "source": [
    "X_train_normalized = X_train_flatten.astype('float32') / 255.\n",
    "X_test_normalized = X_test_flatten.astype('float32') / 255."
   ]
  },
  {
   "cell_type": "markdown",
   "metadata": {},
   "source": [
    "Since calculations of finding mask for all train data might be too much time consuming, we select smaller piece of train data to train the network."
   ]
  },
  {
   "cell_type": "code",
   "execution_count": 5,
   "metadata": {},
   "outputs": [],
   "source": [
    "X_train_subset, _, Y_train_subset, _ = train_test_split(X_train_normalized, Y_train,\n",
    "                                                        train_size=1000, stratify=Y_train, random_state=53)"
   ]
  },
  {
   "cell_type": "code",
   "execution_count": 6,
   "metadata": {},
   "outputs": [
    {
     "data": {
      "text/plain": [
       "(1000, 784)"
      ]
     },
     "execution_count": 6,
     "metadata": {},
     "output_type": "execute_result"
    }
   ],
   "source": [
    "X_train_subset.shape"
   ]
  },
  {
   "cell_type": "code",
   "execution_count": 7,
   "metadata": {},
   "outputs": [
    {
     "name": "stderr",
     "output_type": "stream",
     "text": [
      "2023-11-09 11:30:16.576801: E tensorflow/compiler/xla/stream_executor/cuda/cuda_driver.cc:268] failed call to cuInit: CUDA_ERROR_UNKNOWN: unknown error\n",
      "2023-11-09 11:30:16.576825: I tensorflow/compiler/xla/stream_executor/cuda/cuda_diagnostics.cc:168] retrieving CUDA diagnostic information for host: Javad-Bshrt\n",
      "2023-11-09 11:30:16.576829: I tensorflow/compiler/xla/stream_executor/cuda/cuda_diagnostics.cc:175] hostname: Javad-Bshrt\n",
      "2023-11-09 11:30:16.576908: I tensorflow/compiler/xla/stream_executor/cuda/cuda_diagnostics.cc:199] libcuda reported version is: 535.129.3\n",
      "2023-11-09 11:30:16.576924: I tensorflow/compiler/xla/stream_executor/cuda/cuda_diagnostics.cc:203] kernel reported version is: 535.129.3\n",
      "2023-11-09 11:30:16.576928: I tensorflow/compiler/xla/stream_executor/cuda/cuda_diagnostics.cc:309] kernel version seems to match DSO: 535.129.3\n"
     ]
    }
   ],
   "source": [
    "input_size = X_train_subset.shape[1]\n",
    "\n",
    "#encoder:\n",
    "encoder_input = Input(shape=(input_size,))\n",
    "encoder_hidden1 = Dense(512, activation='relu')(encoder_input)\n",
    "encoder_hidden2 = Activation(activation='tanh')(encoder_hidden1)\n",
    "encoder_hidden3 = Dense(128, activation='relu')(encoder_hidden2)\n",
    "encoder_hidden4 = Activation(activation='tanh')(encoder_hidden3)\n",
    "encoder_hidden5 = Dense(32, activation='tanh')(encoder_hidden4)\n",
    "encoder_output = Dense(10, activation='linear')(encoder_hidden5) # also decoder input\n",
    "#decoder:\n",
    "decoder_hidden1 = Dense(32, activation='tanh')(encoder_output)\n",
    "decoder_hidden2 = Dense(128, activation='tanh')(decoder_hidden1)\n",
    "decoder_hidden3 = Dense(512, activation='tanh')(decoder_hidden2)\n",
    "decoder_output = Dense(784, activation='sigmoid')(decoder_hidden3)\n",
    "\n"
   ]
  },
  {
   "cell_type": "code",
   "execution_count": 8,
   "metadata": {},
   "outputs": [
    {
     "name": "stdout",
     "output_type": "stream",
     "text": [
      "Model: \"model\"\n",
      "_________________________________________________________________\n",
      " Layer (type)                Output Shape              Param #   \n",
      "=================================================================\n",
      " input_1 (InputLayer)        [(None, 784)]             0         \n",
      "                                                                 \n",
      " dense (Dense)               (None, 512)               401920    \n",
      "                                                                 \n",
      " activation (Activation)     (None, 512)               0         \n",
      "                                                                 \n",
      " dense_1 (Dense)             (None, 128)               65664     \n",
      "                                                                 \n",
      " activation_1 (Activation)   (None, 128)               0         \n",
      "                                                                 \n",
      " dense_2 (Dense)             (None, 32)                4128      \n",
      "                                                                 \n",
      " dense_3 (Dense)             (None, 10)                330       \n",
      "                                                                 \n",
      " dense_4 (Dense)             (None, 32)                352       \n",
      "                                                                 \n",
      " dense_5 (Dense)             (None, 128)               4224      \n",
      "                                                                 \n",
      " dense_6 (Dense)             (None, 512)               66048     \n",
      "                                                                 \n",
      " dense_7 (Dense)             (None, 784)               402192    \n",
      "                                                                 \n",
      "=================================================================\n",
      "Total params: 944858 (3.60 MB)\n",
      "Trainable params: 944858 (3.60 MB)\n",
      "Non-trainable params: 0 (0.00 Byte)\n",
      "_________________________________________________________________\n"
     ]
    }
   ],
   "source": [
    "autoencoder = Model(encoder_input, decoder_output)\n",
    "autoencoder.summary()"
   ]
  },
  {
   "cell_type": "markdown",
   "metadata": {},
   "source": [
    "Let's see how many classes exist in MNIST dataset."
   ]
  },
  {
   "cell_type": "code",
   "execution_count": 9,
   "metadata": {},
   "outputs": [
    {
     "data": {
      "text/plain": [
       "array([0, 1, 2, 3, 4, 5, 6, 7, 8, 9], dtype=uint8)"
      ]
     },
     "execution_count": 9,
     "metadata": {},
     "output_type": "execute_result"
    }
   ],
   "source": [
    "np.unique(Y_train_subset)"
   ]
  },
  {
   "cell_type": "code",
   "execution_count": 10,
   "metadata": {},
   "outputs": [],
   "source": [
    "features_count = X_train_subset.shape[1]\n",
    "samples_count = X_train_subset.shape[0]\n"
   ]
  },
  {
   "cell_type": "code",
   "execution_count": 11,
   "metadata": {},
   "outputs": [],
   "source": [
    "def find_same_labels():\n",
    "    same_labels_inds = {}\n",
    "\n",
    "    for i in range(10):\n",
    "        same_labels_inds[i] = np.where(Y_train_subset == i)[0]\n",
    "\n",
    "    return same_labels_inds\n",
    "        "
   ]
  },
  {
   "cell_type": "code",
   "execution_count": 12,
   "metadata": {},
   "outputs": [],
   "source": [
    "same_labels_inds = find_same_labels()"
   ]
  },
  {
   "cell_type": "code",
   "execution_count": 13,
   "metadata": {},
   "outputs": [],
   "source": [
    "def calc_inner_ws():\n",
    "\n",
    "    inner_ws = []\n",
    "\n",
    "    for i in range(features_count):\n",
    "        mask_same_labels = 0\n",
    "\n",
    "        for j in range(10):\n",
    "            same_label_inds = same_labels_inds[j]\n",
    "            same_label_inds_count = len(same_label_inds)\n",
    "\n",
    "            comparisons_count = (same_label_inds_count) * (same_label_inds_count - 1) / 2\n",
    "\n",
    "            X_train_subset_i = X_train_subset[same_label_inds]\n",
    "\n",
    "            diff = X_train_subset_i[:, i, None] - X_train_subset_i[:, i, None].T\n",
    "\n",
    "            exponential_squared_diff_sum = (np.sum(np.exp(-diff ** 2)) - X_train_subset_i.shape[0]) / 2\n",
    "\n",
    "            mask_same_labels += exponential_squared_diff_sum / comparisons_count\n",
    "\n",
    "        inner_ws.append(mask_same_labels / 10)\n",
    "\n",
    "    return np.array(inner_ws)"
   ]
  },
  {
   "cell_type": "code",
   "execution_count": 14,
   "metadata": {},
   "outputs": [],
   "source": [
    "inner_ws = calc_inner_ws()"
   ]
  },
  {
   "cell_type": "code",
   "execution_count": 15,
   "metadata": {},
   "outputs": [],
   "source": [
    "def calc_outer_ws():\n",
    "\n",
    "    outer_ws = []\n",
    "\n",
    "    for i in range(features_count):\n",
    "        mask_diff_labels_total = 0\n",
    "\n",
    "        for j in range(10):\n",
    "            same_label_inds = same_labels_inds[j]\n",
    "            same_label_inds_count = len(same_label_inds)\n",
    "\n",
    "            X_train_subset_i = X_train_subset[same_label_inds]\n",
    "\n",
    "            mask_diff_labels_partial = 0\n",
    "\n",
    "            for k in range(10):\n",
    "                if k != j:\n",
    "                    variable_label_inds = same_labels_inds[j]\n",
    "                    variable_label_inds_count = len(variable_label_inds)\n",
    "\n",
    "                    X_train_subset_j = X_train_subset[variable_label_inds]\n",
    "\n",
    "                    comparisons_count = same_label_inds_count * variable_label_inds_count\n",
    "\n",
    "                    diff = X_train_subset_i[:, i, None] - X_train_subset_j[:, i, None].T\n",
    "\n",
    "                    exponential_squared_diff_sum = np.sum(np.exp(-diff ** 2))\n",
    "\n",
    "                    mask_diff_labels_partial += (comparisons_count - exponential_squared_diff_sum) / comparisons_count\n",
    "\n",
    "            mask_diff_labels_total += mask_diff_labels_partial / 9\n",
    "\n",
    "        outer_ws.append(mask_diff_labels_total / 10)\n",
    "\n",
    "    return np.array(outer_ws)"
   ]
  },
  {
   "cell_type": "code",
   "execution_count": 16,
   "metadata": {},
   "outputs": [],
   "source": [
    "outer_ws = calc_outer_ws()"
   ]
  },
  {
   "cell_type": "code",
   "execution_count": 17,
   "metadata": {},
   "outputs": [],
   "source": [
    "loss_weights = inner_ws * outer_ws"
   ]
  },
  {
   "cell_type": "code",
   "execution_count": 18,
   "metadata": {},
   "outputs": [],
   "source": [
    "def plot_weights(w):\n",
    "    weights = w.reshape(28, 28)\n",
    "    plt.imshow(weights, cmap='gray')\n",
    "    plt.colorbar\n",
    "    plt.title('Map of Computed Weights Using 1000 Samples of Data')\n",
    "    plt.show()"
   ]
  },
  {
   "cell_type": "code",
   "execution_count": 19,
   "metadata": {},
   "outputs": [
    {
     "data": {
      "image/png": "[encoded data removed]",
      "text/plain": [
       "<Figure size 640x480 with 1 Axes>"
      ]
     },
     "metadata": {},
     "output_type": "display_data"
    }
   ],
   "source": [
    "plot_weights(loss_weights)"
   ]
  },
  {
   "cell_type": "code",
   "execution_count": 20,
   "metadata": {},
   "outputs": [],
   "source": [
    "def custom_loss(y_pred, y_true):\n",
    "     l1 = np.mean(loss_weights * (y_true - y_pred) ** 2)\n",
    "     l2_reg = tf.reduce_sum([tf.nn.l2_loss(w) for w in autoencoder.trainable_weights])\n",
    "\n",
    "     return l1 + 0.00001 * l2_reg\n"
   ]
  },
  {
   "cell_type": "code",
   "execution_count": 21,
   "metadata": {},
   "outputs": [],
   "source": [
    "autoencoder_otimizer = Adam(learning_rate=0.003)\n",
    "\n",
    "autoencoder.compile(optimizer=autoencoder_otimizer, loss=custom_loss)\n"
   ]
  },
  {
   "cell_type": "code",
   "execution_count": 22,
   "metadata": {},
   "outputs": [],
   "source": [
    "def lr_scheduler(epoch, lr):\n",
    "    if epoch <= 10:\n",
    "        return lr\n",
    "    else:\n",
    "        return 0.996 * lr"
   ]
  },
  {
   "cell_type": "code",
   "execution_count": 23,
   "metadata": {},
   "outputs": [
    {
     "name": "stdout",
     "output_type": "stream",
     "text": [
      "Epoch 1/200\n"
     ]
    },
    {
     "name": "stderr",
     "output_type": "stream",
     "text": [
      "2023-11-09 11:31:12.699337: W tensorflow/tsl/framework/cpu_allocator_impl.cc:83] Allocation of 188160000 exceeds 10% of free system memory.\n",
      "2023-11-09 11:31:12.790294: W tensorflow/tsl/framework/cpu_allocator_impl.cc:83] Allocation of 188160000 exceeds 10% of free system memory.\n"
     ]
    },
    {
     "name": "stdout",
     "output_type": "stream",
     "text": [
      "1875/1875 [==============================] - 12s 6ms/step - loss: 0.0079 - lr: 0.0030\n",
      "Epoch 2/200\n",
      "1875/1875 [==============================] - 10s 5ms/step - loss: 0.0070 - lr: 0.0030\n",
      "Epoch 3/200\n",
      "1875/1875 [==============================] - 10s 5ms/step - loss: 0.0068 - lr: 0.0030\n",
      "Epoch 4/200\n",
      "1875/1875 [==============================] - 10s 6ms/step - loss: 0.0067 - lr: 0.0030\n",
      "Epoch 5/200\n",
      "1875/1875 [==============================] - 11s 6ms/step - loss: 0.0066 - lr: 0.0030\n",
      "Epoch 6/200\n",
      "1875/1875 [==============================] - 11s 6ms/step - loss: 0.0065 - lr: 0.0030\n",
      "Epoch 7/200\n",
      "1875/1875 [==============================] - 11s 6ms/step - loss: 0.0064 - lr: 0.0030\n",
      "Epoch 8/200\n",
      "1875/1875 [==============================] - 11s 6ms/step - loss: 0.0064 - lr: 0.0030\n",
      "Epoch 9/200\n",
      "1875/1875 [==============================] - 11s 6ms/step - loss: 0.0063 - lr: 0.0030\n",
      "Epoch 10/200\n",
      "1875/1875 [==============================] - 11s 6ms/step - loss: 0.0063 - lr: 0.0030\n",
      "Epoch 11/200\n",
      "1875/1875 [==============================] - 11s 6ms/step - loss: 0.0062 - lr: 0.0030\n",
      "Epoch 12/200\n",
      "1875/1875 [==============================] - 11s 6ms/step - loss: 0.0062 - lr: 0.0030\n",
      "Epoch 13/200\n",
      "1875/1875 [==============================] - 11s 6ms/step - loss: 0.0062 - lr: 0.0030\n",
      "Epoch 14/200\n",
      "1875/1875 [==============================] - 11s 6ms/step - loss: 0.0062 - lr: 0.0030\n",
      "Epoch 15/200\n",
      "1875/1875 [==============================] - 11s 6ms/step - loss: 0.0062 - lr: 0.0030\n",
      "Epoch 16/200\n",
      "1875/1875 [==============================] - 11s 6ms/step - loss: 0.0062 - lr: 0.0029\n",
      "Epoch 17/200\n",
      "1875/1875 [==============================] - 11s 6ms/step - loss: 0.0062 - lr: 0.0029\n",
      "Epoch 18/200\n",
      "1875/1875 [==============================] - 11s 6ms/step - loss: 0.0062 - lr: 0.0029\n",
      "Epoch 19/200\n",
      "1875/1875 [==============================] - 11s 6ms/step - loss: 0.0062 - lr: 0.0029\n",
      "Epoch 20/200\n",
      "1875/1875 [==============================] - 11s 6ms/step - loss: 0.0062 - lr: 0.0029\n",
      "Epoch 21/200\n",
      "1875/1875 [==============================] - 11s 6ms/step - loss: 0.0062 - lr: 0.0029\n",
      "Epoch 22/200\n",
      "1875/1875 [==============================] - 11s 6ms/step - loss: 0.0062 - lr: 0.0029\n",
      "Epoch 23/200\n",
      "1875/1875 [==============================] - 11s 6ms/step - loss: 0.0062 - lr: 0.0029\n",
      "Epoch 24/200\n",
      "1875/1875 [==============================] - 11s 6ms/step - loss: 0.0062 - lr: 0.0028\n",
      "Epoch 25/200\n",
      "1875/1875 [==============================] - 11s 6ms/step - loss: 0.0062 - lr: 0.0028\n",
      "Epoch 26/200\n",
      "1875/1875 [==============================] - 11s 6ms/step - loss: 0.0062 - lr: 0.0028\n",
      "Epoch 27/200\n",
      "1875/1875 [==============================] - 11s 6ms/step - loss: 0.0062 - lr: 0.0028\n",
      "Epoch 28/200\n",
      "1875/1875 [==============================] - 11s 6ms/step - loss: 0.0062 - lr: 0.0028\n",
      "Epoch 29/200\n",
      "1875/1875 [==============================] - 11s 6ms/step - loss: 0.0062 - lr: 0.0028\n",
      "Epoch 30/200\n",
      "1875/1875 [==============================] - 11s 6ms/step - loss: 0.0062 - lr: 0.0028\n",
      "Epoch 31/200\n",
      "1875/1875 [==============================] - 11s 6ms/step - loss: 0.0062 - lr: 0.0028\n",
      "Epoch 32/200\n",
      "1875/1875 [==============================] - 11s 6ms/step - loss: 0.0062 - lr: 0.0028\n",
      "Epoch 33/200\n",
      "1875/1875 [==============================] - 11s 6ms/step - loss: 0.0062 - lr: 0.0027\n",
      "Epoch 34/200\n",
      "1875/1875 [==============================] - 11s 6ms/step - loss: 0.0062 - lr: 0.0027\n",
      "Epoch 35/200\n",
      "1875/1875 [==============================] - 11s 6ms/step - loss: 0.0062 - lr: 0.0027\n",
      "Epoch 36/200\n",
      "1875/1875 [==============================] - 11s 6ms/step - loss: 0.0062 - lr: 0.0027\n",
      "Epoch 37/200\n",
      "1875/1875 [==============================] - 11s 6ms/step - loss: 0.0062 - lr: 0.0027\n",
      "Epoch 38/200\n",
      "1875/1875 [==============================] - 11s 6ms/step - loss: 0.0062 - lr: 0.0027\n",
      "Epoch 39/200\n",
      "1875/1875 [==============================] - 11s 6ms/step - loss: 0.0062 - lr: 0.0027\n",
      "Epoch 40/200\n",
      "1875/1875 [==============================] - 11s 6ms/step - loss: 0.0062 - lr: 0.0027\n",
      "Epoch 41/200\n",
      "1875/1875 [==============================] - 11s 6ms/step - loss: 0.0062 - lr: 0.0027\n",
      "Epoch 42/200\n",
      "1875/1875 [==============================] - 11s 6ms/step - loss: 0.0061 - lr: 0.0026\n",
      "Epoch 43/200\n",
      "1875/1875 [==============================] - 11s 6ms/step - loss: 0.0061 - lr: 0.0026\n",
      "Epoch 44/200\n",
      "1875/1875 [==============================] - 11s 6ms/step - loss: 0.0061 - lr: 0.0026\n",
      "Epoch 45/200\n",
      "1875/1875 [==============================] - 11s 6ms/step - loss: 0.0061 - lr: 0.0026\n",
      "Epoch 46/200\n",
      "1875/1875 [==============================] - 11s 6ms/step - loss: 0.0060 - lr: 0.0026\n",
      "Epoch 47/200\n",
      "1875/1875 [==============================] - 11s 6ms/step - loss: 0.0060 - lr: 0.0026\n",
      "Epoch 48/200\n",
      "1875/1875 [==============================] - 11s 6ms/step - loss: 0.0060 - lr: 0.0026\n",
      "Epoch 49/200\n",
      "1875/1875 [==============================] - 11s 6ms/step - loss: 0.0060 - lr: 0.0026\n",
      "Epoch 50/200\n",
      "1875/1875 [==============================] - 11s 6ms/step - loss: 0.0060 - lr: 0.0026\n",
      "Epoch 51/200\n",
      "1875/1875 [==============================] - 11s 6ms/step - loss: 0.0060 - lr: 0.0026\n",
      "Epoch 52/200\n",
      "1875/1875 [==============================] - 11s 6ms/step - loss: 0.0060 - lr: 0.0025\n",
      "Epoch 53/200\n",
      "1875/1875 [==============================] - 11s 6ms/step - loss: 0.0060 - lr: 0.0025\n",
      "Epoch 54/200\n",
      "1875/1875 [==============================] - 11s 6ms/step - loss: 0.0060 - lr: 0.0025\n",
      "Epoch 55/200\n",
      "1875/1875 [==============================] - 11s 6ms/step - loss: 0.0060 - lr: 0.0025\n",
      "Epoch 56/200\n",
      "1875/1875 [==============================] - 11s 6ms/step - loss: 0.0060 - lr: 0.0025\n",
      "Epoch 57/200\n",
      "1875/1875 [==============================] - 11s 6ms/step - loss: 0.0060 - lr: 0.0025\n",
      "Epoch 58/200\n",
      "1875/1875 [==============================] - 11s 6ms/step - loss: 0.0060 - lr: 0.0025\n",
      "Epoch 59/200\n",
      "1875/1875 [==============================] - 11s 6ms/step - loss: 0.0060 - lr: 0.0025\n",
      "Epoch 60/200\n",
      "1875/1875 [==============================] - 11s 6ms/step - loss: 0.0060 - lr: 0.0025\n",
      "Epoch 61/200\n",
      "1875/1875 [==============================] - 11s 6ms/step - loss: 0.0060 - lr: 0.0025\n",
      "Epoch 62/200\n",
      "1875/1875 [==============================] - 11s 6ms/step - loss: 0.0060 - lr: 0.0024\n",
      "Epoch 63/200\n",
      "1875/1875 [==============================] - 11s 6ms/step - loss: 0.0060 - lr: 0.0024\n",
      "Epoch 64/200\n",
      "1875/1875 [==============================] - 11s 6ms/step - loss: 0.0060 - lr: 0.0024\n",
      "Epoch 65/200\n",
      "1875/1875 [==============================] - 11s 6ms/step - loss: 0.0060 - lr: 0.0024\n",
      "Epoch 66/200\n",
      "1875/1875 [==============================] - 11s 6ms/step - loss: 0.0060 - lr: 0.0024\n",
      "Epoch 67/200\n",
      "1875/1875 [==============================] - 11s 6ms/step - loss: 0.0060 - lr: 0.0024\n",
      "Epoch 68/200\n",
      "1875/1875 [==============================] - 11s 6ms/step - loss: 0.0060 - lr: 0.0024\n",
      "Epoch 69/200\n",
      "1875/1875 [==============================] - 11s 6ms/step - loss: 0.0060 - lr: 0.0024\n",
      "Epoch 70/200\n",
      "1875/1875 [==============================] - 11s 6ms/step - loss: 0.0060 - lr: 0.0024\n",
      "Epoch 71/200\n",
      "1875/1875 [==============================] - 11s 6ms/step - loss: 0.0060 - lr: 0.0024\n",
      "Epoch 72/200\n",
      "1875/1875 [==============================] - 11s 6ms/step - loss: 0.0060 - lr: 0.0023\n",
      "Epoch 73/200\n",
      "1875/1875 [==============================] - 11s 6ms/step - loss: 0.0060 - lr: 0.0023\n",
      "Epoch 74/200\n",
      "1875/1875 [==============================] - 11s 6ms/step - loss: 0.0060 - lr: 0.0023\n",
      "Epoch 75/200\n",
      "1875/1875 [==============================] - 11s 6ms/step - loss: 0.0060 - lr: 0.0023\n",
      "Epoch 76/200\n",
      "1875/1875 [==============================] - 11s 6ms/step - loss: 0.0060 - lr: 0.0023\n",
      "Epoch 77/200\n",
      "1875/1875 [==============================] - 11s 6ms/step - loss: 0.0060 - lr: 0.0023\n",
      "Epoch 78/200\n",
      "1875/1875 [==============================] - 11s 6ms/step - loss: 0.0060 - lr: 0.0023\n",
      "Epoch 79/200\n",
      "1875/1875 [==============================] - 11s 6ms/step - loss: 0.0060 - lr: 0.0023\n",
      "Epoch 80/200\n",
      "1875/1875 [==============================] - 11s 6ms/step - loss: 0.0060 - lr: 0.0023\n",
      "Epoch 81/200\n",
      "1875/1875 [==============================] - 11s 6ms/step - loss: 0.0060 - lr: 0.0023\n",
      "Epoch 82/200\n",
      "1875/1875 [==============================] - 11s 6ms/step - loss: 0.0060 - lr: 0.0023\n",
      "Epoch 83/200\n",
      "1875/1875 [==============================] - 11s 6ms/step - loss: 0.0060 - lr: 0.0022\n",
      "Epoch 84/200\n",
      "1875/1875 [==============================] - 11s 6ms/step - loss: 0.0060 - lr: 0.0022\n",
      "Epoch 85/200\n",
      "1875/1875 [==============================] - 11s 6ms/step - loss: 0.0060 - lr: 0.0022\n",
      "Epoch 86/200\n",
      "1875/1875 [==============================] - 11s 6ms/step - loss: 0.0060 - lr: 0.0022\n",
      "Epoch 87/200\n",
      "1875/1875 [==============================] - 11s 6ms/step - loss: 0.0059 - lr: 0.0022\n",
      "Epoch 88/200\n",
      "1875/1875 [==============================] - 11s 6ms/step - loss: 0.0059 - lr: 0.0022\n",
      "Epoch 89/200\n",
      "1875/1875 [==============================] - 11s 6ms/step - loss: 0.0059 - lr: 0.0022\n",
      "Epoch 90/200\n",
      "1875/1875 [==============================] - 11s 6ms/step - loss: 0.0059 - lr: 0.0022\n",
      "Epoch 91/200\n",
      "1875/1875 [==============================] - 11s 6ms/step - loss: 0.0059 - lr: 0.0022\n",
      "Epoch 92/200\n",
      "1875/1875 [==============================] - 11s 6ms/step - loss: 0.0059 - lr: 0.0022\n",
      "Epoch 93/200\n",
      "1875/1875 [==============================] - 11s 6ms/step - loss: 0.0059 - lr: 0.0022\n",
      "Epoch 94/200\n",
      "1875/1875 [==============================] - 11s 6ms/step - loss: 0.0059 - lr: 0.0022\n",
      "Epoch 95/200\n",
      "1875/1875 [==============================] - 11s 6ms/step - loss: 0.0059 - lr: 0.0021\n",
      "Epoch 96/200\n",
      "1875/1875 [==============================] - 11s 6ms/step - loss: 0.0059 - lr: 0.0021\n",
      "Epoch 97/200\n",
      "1875/1875 [==============================] - 11s 6ms/step - loss: 0.0059 - lr: 0.0021\n",
      "Epoch 98/200\n",
      "1875/1875 [==============================] - 11s 6ms/step - loss: 0.0059 - lr: 0.0021\n",
      "Epoch 99/200\n",
      "1875/1875 [==============================] - 11s 6ms/step - loss: 0.0059 - lr: 0.0021\n",
      "Epoch 100/200\n",
      "1875/1875 [==============================] - 11s 6ms/step - loss: 0.0059 - lr: 0.0021\n",
      "Epoch 101/200\n",
      "1875/1875 [==============================] - 11s 6ms/step - loss: 0.0059 - lr: 0.0021\n",
      "Epoch 102/200\n",
      "1875/1875 [==============================] - 11s 6ms/step - loss: 0.0059 - lr: 0.0021\n",
      "Epoch 103/200\n",
      "1875/1875 [==============================] - 11s 6ms/step - loss: 0.0059 - lr: 0.0021\n",
      "Epoch 104/200\n",
      "1875/1875 [==============================] - 11s 6ms/step - loss: 0.0059 - lr: 0.0021\n",
      "Epoch 105/200\n",
      "1875/1875 [==============================] - 11s 6ms/step - loss: 0.0059 - lr: 0.0021\n",
      "Epoch 106/200\n",
      "1875/1875 [==============================] - 11s 6ms/step - loss: 0.0059 - lr: 0.0021\n",
      "Epoch 107/200\n",
      "1875/1875 [==============================] - 11s 6ms/step - loss: 0.0059 - lr: 0.0020\n",
      "Epoch 108/200\n",
      "1875/1875 [==============================] - 11s 6ms/step - loss: 0.0059 - lr: 0.0020\n",
      "Epoch 109/200\n",
      "1875/1875 [==============================] - 11s 6ms/step - loss: 0.0059 - lr: 0.0020\n",
      "Epoch 110/200\n",
      "1875/1875 [==============================] - 11s 6ms/step - loss: 0.0059 - lr: 0.0020\n",
      "Epoch 111/200\n",
      "1875/1875 [==============================] - 11s 6ms/step - loss: 0.0059 - lr: 0.0020\n",
      "Epoch 112/200\n",
      "1875/1875 [==============================] - 11s 6ms/step - loss: 0.0059 - lr: 0.0020\n",
      "Epoch 113/200\n",
      "1875/1875 [==============================] - 11s 6ms/step - loss: 0.0059 - lr: 0.0020\n",
      "Epoch 114/200\n",
      "1875/1875 [==============================] - 11s 6ms/step - loss: 0.0059 - lr: 0.0020\n",
      "Epoch 115/200\n",
      "1875/1875 [==============================] - 11s 6ms/step - loss: 0.0059 - lr: 0.0020\n",
      "Epoch 116/200\n",
      "1875/1875 [==============================] - 11s 6ms/step - loss: 0.0059 - lr: 0.0020\n",
      "Epoch 117/200\n",
      "1875/1875 [==============================] - 11s 6ms/step - loss: 0.0059 - lr: 0.0020\n",
      "Epoch 118/200\n",
      "1875/1875 [==============================] - 11s 6ms/step - loss: 0.0059 - lr: 0.0020\n",
      "Epoch 119/200\n",
      "1875/1875 [==============================] - 11s 6ms/step - loss: 0.0059 - lr: 0.0019\n",
      "Epoch 120/200\n",
      "1875/1875 [==============================] - 11s 6ms/step - loss: 0.0059 - lr: 0.0019\n",
      "Epoch 121/200\n",
      "1875/1875 [==============================] - 11s 6ms/step - loss: 0.0059 - lr: 0.0019\n",
      "Epoch 122/200\n",
      "1875/1875 [==============================] - 11s 6ms/step - loss: 0.0059 - lr: 0.0019\n",
      "Epoch 123/200\n",
      "1875/1875 [==============================] - 11s 6ms/step - loss: 0.0059 - lr: 0.0019\n",
      "Epoch 124/200\n",
      "1875/1875 [==============================] - 11s 6ms/step - loss: 0.0059 - lr: 0.0019\n",
      "Epoch 125/200\n",
      "1875/1875 [==============================] - 11s 6ms/step - loss: 0.0059 - lr: 0.0019\n",
      "Epoch 126/200\n",
      "1875/1875 [==============================] - 11s 6ms/step - loss: 0.0059 - lr: 0.0019\n",
      "Epoch 127/200\n",
      "1875/1875 [==============================] - 11s 6ms/step - loss: 0.0059 - lr: 0.0019\n",
      "Epoch 128/200\n",
      "1875/1875 [==============================] - 11s 6ms/step - loss: 0.0059 - lr: 0.0019\n",
      "Epoch 129/200\n",
      "1875/1875 [==============================] - 11s 6ms/step - loss: 0.0059 - lr: 0.0019\n",
      "Epoch 130/200\n",
      "1875/1875 [==============================] - 11s 6ms/step - loss: 0.0059 - lr: 0.0019\n",
      "Epoch 131/200\n",
      "1875/1875 [==============================] - 11s 6ms/step - loss: 0.0059 - lr: 0.0019\n",
      "Epoch 132/200\n",
      "1875/1875 [==============================] - 13s 7ms/step - loss: 0.0059 - lr: 0.0018\n",
      "Epoch 133/200\n",
      "1875/1875 [==============================] - 12s 6ms/step - loss: 0.0059 - lr: 0.0018\n",
      "Epoch 134/200\n",
      "1875/1875 [==============================] - 11s 6ms/step - loss: 0.0059 - lr: 0.0018\n",
      "Epoch 135/200\n",
      "1875/1875 [==============================] - 11s 6ms/step - loss: 0.0059 - lr: 0.0018\n",
      "Epoch 136/200\n",
      "1875/1875 [==============================] - 11s 6ms/step - loss: 0.0059 - lr: 0.0018\n",
      "Epoch 137/200\n",
      "1875/1875 [==============================] - 11s 6ms/step - loss: 0.0059 - lr: 0.0018\n",
      "Epoch 138/200\n",
      "1875/1875 [==============================] - 11s 6ms/step - loss: 0.0059 - lr: 0.0018\n",
      "Epoch 139/200\n",
      "1875/1875 [==============================] - 11s 6ms/step - loss: 0.0059 - lr: 0.0018\n",
      "Epoch 140/200\n",
      "1875/1875 [==============================] - 11s 6ms/step - loss: 0.0059 - lr: 0.0018\n",
      "Epoch 141/200\n",
      "1875/1875 [==============================] - 11s 6ms/step - loss: 0.0059 - lr: 0.0018\n",
      "Epoch 142/200\n",
      "1875/1875 [==============================] - 11s 6ms/step - loss: 0.0059 - lr: 0.0018\n",
      "Epoch 143/200\n",
      "1875/1875 [==============================] - 11s 6ms/step - loss: 0.0059 - lr: 0.0018\n",
      "Epoch 144/200\n",
      "1875/1875 [==============================] - 11s 6ms/step - loss: 0.0059 - lr: 0.0018\n",
      "Epoch 145/200\n",
      "1875/1875 [==============================] - 11s 6ms/step - loss: 0.0059 - lr: 0.0018\n",
      "Epoch 146/200\n",
      "1875/1875 [==============================] - 11s 6ms/step - loss: 0.0059 - lr: 0.0017\n",
      "Epoch 147/200\n",
      "1875/1875 [==============================] - 11s 6ms/step - loss: 0.0059 - lr: 0.0017\n",
      "Epoch 148/200\n",
      "1875/1875 [==============================] - 11s 6ms/step - loss: 0.0059 - lr: 0.0017\n",
      "Epoch 149/200\n",
      "1875/1875 [==============================] - 11s 6ms/step - loss: 0.0059 - lr: 0.0017\n",
      "Epoch 150/200\n",
      "1875/1875 [==============================] - 11s 6ms/step - loss: 0.0059 - lr: 0.0017\n",
      "Epoch 151/200\n",
      "1875/1875 [==============================] - 11s 6ms/step - loss: 0.0059 - lr: 0.0017\n",
      "Epoch 152/200\n",
      "1875/1875 [==============================] - 11s 6ms/step - loss: 0.0059 - lr: 0.0017\n",
      "Epoch 153/200\n",
      "1875/1875 [==============================] - 11s 6ms/step - loss: 0.0059 - lr: 0.0017\n",
      "Epoch 154/200\n",
      "1875/1875 [==============================] - 11s 6ms/step - loss: 0.0059 - lr: 0.0017\n",
      "Epoch 155/200\n",
      "1875/1875 [==============================] - 11s 6ms/step - loss: 0.0059 - lr: 0.0017\n",
      "Epoch 156/200\n",
      "1875/1875 [==============================] - 11s 6ms/step - loss: 0.0059 - lr: 0.0017\n",
      "Epoch 157/200\n",
      "1875/1875 [==============================] - 11s 6ms/step - loss: 0.0059 - lr: 0.0017\n",
      "Epoch 158/200\n",
      "1875/1875 [==============================] - 11s 6ms/step - loss: 0.0059 - lr: 0.0017\n",
      "Epoch 159/200\n",
      "1875/1875 [==============================] - 11s 6ms/step - loss: 0.0059 - lr: 0.0017\n",
      "Epoch 160/200\n",
      "1875/1875 [==============================] - 11s 6ms/step - loss: 0.0059 - lr: 0.0017\n",
      "Epoch 161/200\n",
      "1875/1875 [==============================] - 11s 6ms/step - loss: 0.0059 - lr: 0.0016\n",
      "Epoch 162/200\n",
      "1875/1875 [==============================] - 13s 7ms/step - loss: 0.0059 - lr: 0.0016\n",
      "Epoch 163/200\n",
      "1875/1875 [==============================] - 13s 7ms/step - loss: 0.0059 - lr: 0.0016\n",
      "Epoch 164/200\n",
      "1875/1875 [==============================] - 12s 7ms/step - loss: 0.0059 - lr: 0.0016\n",
      "Epoch 165/200\n",
      "1875/1875 [==============================] - 13s 7ms/step - loss: 0.0059 - lr: 0.0016\n",
      "Epoch 166/200\n",
      "1875/1875 [==============================] - 13s 7ms/step - loss: 0.0059 - lr: 0.0016\n",
      "Epoch 167/200\n",
      "1875/1875 [==============================] - 11s 6ms/step - loss: 0.0059 - lr: 0.0016\n",
      "Epoch 168/200\n",
      "1875/1875 [==============================] - 11s 6ms/step - loss: 0.0058 - lr: 0.0016\n",
      "Epoch 169/200\n",
      "1875/1875 [==============================] - 11s 6ms/step - loss: 0.0058 - lr: 0.0016\n",
      "Epoch 170/200\n",
      "1875/1875 [==============================] - 11s 6ms/step - loss: 0.0058 - lr: 0.0016\n",
      "Epoch 171/200\n",
      "1875/1875 [==============================] - 11s 6ms/step - loss: 0.0058 - lr: 0.0016\n",
      "Epoch 172/200\n",
      "1875/1875 [==============================] - 11s 6ms/step - loss: 0.0058 - lr: 0.0016\n",
      "Epoch 173/200\n",
      "1875/1875 [==============================] - 11s 6ms/step - loss: 0.0058 - lr: 0.0016\n",
      "Epoch 174/200\n",
      "1875/1875 [==============================] - 11s 6ms/step - loss: 0.0058 - lr: 0.0016\n",
      "Epoch 175/200\n",
      "1875/1875 [==============================] - 11s 6ms/step - loss: 0.0058 - lr: 0.0016\n",
      "Epoch 176/200\n",
      "1875/1875 [==============================] - 11s 6ms/step - loss: 0.0058 - lr: 0.0015\n",
      "Epoch 177/200\n",
      "1875/1875 [==============================] - 11s 6ms/step - loss: 0.0058 - lr: 0.0015\n",
      "Epoch 178/200\n",
      "1875/1875 [==============================] - 11s 6ms/step - loss: 0.0058 - lr: 0.0015\n",
      "Epoch 179/200\n",
      "1875/1875 [==============================] - 11s 6ms/step - loss: 0.0058 - lr: 0.0015\n",
      "Epoch 180/200\n",
      "1875/1875 [==============================] - 11s 6ms/step - loss: 0.0058 - lr: 0.0015\n",
      "Epoch 181/200\n",
      "1875/1875 [==============================] - 11s 6ms/step - loss: 0.0058 - lr: 0.0015\n",
      "Epoch 182/200\n",
      "1875/1875 [==============================] - 11s 6ms/step - loss: 0.0058 - lr: 0.0015\n",
      "Epoch 183/200\n",
      "1875/1875 [==============================] - 11s 6ms/step - loss: 0.0058 - lr: 0.0015\n",
      "Epoch 184/200\n",
      "1875/1875 [==============================] - 11s 6ms/step - loss: 0.0058 - lr: 0.0015\n",
      "Epoch 185/200\n",
      "1875/1875 [==============================] - 11s 6ms/step - loss: 0.0058 - lr: 0.0015\n",
      "Epoch 186/200\n",
      "1875/1875 [==============================] - 11s 6ms/step - loss: 0.0058 - lr: 0.0015\n",
      "Epoch 187/200\n",
      "1875/1875 [==============================] - 11s 6ms/step - loss: 0.0058 - lr: 0.0015\n",
      "Epoch 188/200\n",
      "1875/1875 [==============================] - 11s 6ms/step - loss: 0.0058 - lr: 0.0015\n",
      "Epoch 189/200\n",
      "1875/1875 [==============================] - 11s 6ms/step - loss: 0.0058 - lr: 0.0015\n",
      "Epoch 190/200\n",
      "1875/1875 [==============================] - 11s 6ms/step - loss: 0.0058 - lr: 0.0015\n",
      "Epoch 191/200\n",
      "1875/1875 [==============================] - 11s 6ms/step - loss: 0.0058 - lr: 0.0015\n",
      "Epoch 192/200\n",
      "1875/1875 [==============================] - 11s 6ms/step - loss: 0.0058 - lr: 0.0015\n",
      "Epoch 193/200\n",
      "1875/1875 [==============================] - 11s 6ms/step - loss: 0.0058 - lr: 0.0014\n",
      "Epoch 194/200\n",
      "1875/1875 [==============================] - 11s 6ms/step - loss: 0.0058 - lr: 0.0014\n",
      "Epoch 195/200\n",
      "1875/1875 [==============================] - 11s 6ms/step - loss: 0.0058 - lr: 0.0014\n",
      "Epoch 196/200\n",
      "1875/1875 [==============================] - 11s 6ms/step - loss: 0.0058 - lr: 0.0014\n",
      "Epoch 197/200\n",
      "1875/1875 [==============================] - 11s 6ms/step - loss: 0.0058 - lr: 0.0014\n",
      "Epoch 198/200\n",
      "1875/1875 [==============================] - 11s 6ms/step - loss: 0.0058 - lr: 0.0014\n",
      "Epoch 199/200\n",
      "1875/1875 [==============================] - 11s 6ms/step - loss: 0.0058 - lr: 0.0014\n",
      "Epoch 200/200\n",
      "1875/1875 [==============================] - 11s 6ms/step - loss: 0.0058 - lr: 0.0014\n"
     ]
    }
   ],
   "source": [
    "callback = LearningRateScheduler(lr_scheduler)\n",
    "autoencoder_history = autoencoder.fit(X_train_normalized, X_train_normalized, epochs=200, callbacks=[callback])"
   ]
  },
  {
   "cell_type": "code",
   "execution_count": 24,
   "metadata": {},
   "outputs": [
    {
     "data": {
      "image/png": "[encoded data removed]",
      "text/plain": [
       "<Figure size 600x400 with 1 Axes>"
      ]
     },
     "metadata": {},
     "output_type": "display_data"
    }
   ],
   "source": [
    "plt.figure(figsize=(6, 4))\n",
    "\n",
    "plt.plot(autoencoder_history.history['loss'], label='Training Loss')\n",
    "plt.xlabel('Epoch')\n",
    "plt.ylabel('Loss')\n",
    "plt.grid()\n",
    "plt.legend()\n",
    "plt.show()"
   ]
  },
  {
   "cell_type": "code",
   "execution_count": 28,
   "metadata": {},
   "outputs": [
    {
     "name": "stdout",
     "output_type": "stream",
     "text": [
      "313/313 [==============================] - 0s 1ms/step\n"
     ]
    }
   ],
   "source": [
    "autoencoder_outputs = autoencoder.predict(X_test_normalized)"
   ]
  },
  {
   "cell_type": "code",
   "execution_count": 29,
   "metadata": {},
   "outputs": [],
   "source": [
    "def display_auto_encoder_outputs_vs_test_data():\n",
    "    samples = []\n",
    "\n",
    "    for i in range(10):\n",
    "        # select the first element of each class\n",
    "        ind = np.where(Y_test == i)[0][0]\n",
    "\n",
    "        data_image = X_test_normalized[ind]\n",
    "        data_image = data_image.reshape(28, 28)\n",
    "        autoencoder_output = autoencoder_outputs[ind]\n",
    "        autoencoder_output = autoencoder_output.reshape(28, 28)\n",
    "        label = Y_test[ind]\n",
    "\n",
    "        samples.append((data_image, autoencoder_output, label))\n",
    "\n",
    "    _, axes = plt.subplots(2, 10, figsize=(12, 3))\n",
    "\n",
    "    for i, (data_image, autoencoder_output, label) in enumerate(samples):\n",
    "        axes[0][i].imshow(data_image, cmap='gray')\n",
    "        axes[1][i].imshow(autoencoder_output, cmap='gray')\n",
    "\n",
    "    plt.show()"
   ]
  },
  {
   "cell_type": "code",
   "execution_count": 30,
   "metadata": {},
   "outputs": [
    {
     "data": {
      "image/png": "[encoded data removed]",
      "text/plain": [
       "<Figure size 1200x300 with 20 Axes>"
      ]
     },
     "metadata": {},
     "output_type": "display_data"
    }
   ],
   "source": [
    "display_auto_encoder_outputs_vs_test_data()"
   ]
  },
  {
   "cell_type": "markdown",
   "metadata": {},
   "source": [
    "In above plot, you can observe raw test input images on top and their correspond reconstructed images by autoencoder on bottom."
   ]
  },
  {
   "cell_type": "code",
   "execution_count": 31,
   "metadata": {},
   "outputs": [
    {
     "name": "stderr",
     "output_type": "stream",
     "text": [
      "/home/javad/.local/lib/python3.11/site-packages/sklearn/cluster/_kmeans.py:1412: FutureWarning: The default value of `n_init` will change from 10 to 'auto' in 1.4. Set the value of `n_init` explicitly to suppress the warning\n",
      "  super()._check_params_vs_input(X, default_n_init=10)\n"
     ]
    },
    {
     "data": {
      "text/html": [
       "<style>#sk-container-id-1 {color: black;}#sk-container-id-1 pre{padding: 0;}#sk-container-id-1 div.sk-toggleable {background-color: white;}#sk-container-id-1 label.sk-toggleable__label {cursor: pointer;display: block;width: 100%;margin-bottom: 0;padding: 0.3em;box-sizing: border-box;text-align: center;}#sk-container-id-1 label.sk-toggleable__label-arrow:before {content: \"▸\";float: left;margin-right: 0.25em;color: #696969;}#sk-container-id-1 label.sk-toggleable__label-arrow:hover:before {color: black;}#sk-container-id-1 div.sk-estimator:hover label.sk-toggleable__label-arrow:before {color: black;}#sk-container-id-1 div.sk-toggleable__content {max-height: 0;max-width: 0;overflow: hidden;text-align: left;background-color: #f0f8ff;}#sk-container-id-1 div.sk-toggleable__content pre {margin: 0.2em;color: black;border-radius: 0.25em;background-color: #f0f8ff;}#sk-container-id-1 input.sk-toggleable__control:checked~div.sk-toggleable__content {max-height: 200px;max-width: 100%;overflow: auto;}#sk-container-id-1 input.sk-toggleable__control:checked~label.sk-toggleable__label-arrow:before {content: \"▾\";}#sk-container-id-1 div.sk-estimator input.sk-toggleable__control:checked~label.sk-toggleable__label {background-color: #d4ebff;}#sk-container-id-1 div.sk-label input.sk-toggleable__control:checked~label.sk-toggleable__label {background-color: #d4ebff;}#sk-container-id-1 input.sk-hidden--visually {border: 0;clip: rect(1px 1px 1px 1px);clip: rect(1px, 1px, 1px, 1px);height: 1px;margin: -1px;overflow: hidden;padding: 0;position: absolute;width: 1px;}#sk-container-id-1 div.sk-estimator {font-family: monospace;background-color: #f0f8ff;border: 1px dotted black;border-radius: 0.25em;box-sizing: border-box;margin-bottom: 0.5em;}#sk-container-id-1 div.sk-estimator:hover {background-color: #d4ebff;}#sk-container-id-1 div.sk-parallel-item::after {content: \"\";width: 100%;border-bottom: 1px solid gray;flex-grow: 1;}#sk-container-id-1 div.sk-label:hover label.sk-toggleable__label {background-color: #d4ebff;}#sk-container-id-1 div.sk-serial::before {content: \"\";position: absolute;border-left: 1px solid gray;box-sizing: border-box;top: 0;bottom: 0;left: 50%;z-index: 0;}#sk-container-id-1 div.sk-serial {display: flex;flex-direction: column;align-items: center;background-color: white;padding-right: 0.2em;padding-left: 0.2em;position: relative;}#sk-container-id-1 div.sk-item {position: relative;z-index: 1;}#sk-container-id-1 div.sk-parallel {display: flex;align-items: stretch;justify-content: center;background-color: white;position: relative;}#sk-container-id-1 div.sk-item::before, #sk-container-id-1 div.sk-parallel-item::before {content: \"\";position: absolute;border-left: 1px solid gray;box-sizing: border-box;top: 0;bottom: 0;left: 50%;z-index: -1;}#sk-container-id-1 div.sk-parallel-item {display: flex;flex-direction: column;z-index: 1;position: relative;background-color: white;}#sk-container-id-1 div.sk-parallel-item:first-child::after {align-self: flex-end;width: 50%;}#sk-container-id-1 div.sk-parallel-item:last-child::after {align-self: flex-start;width: 50%;}#sk-container-id-1 div.sk-parallel-item:only-child::after {width: 0;}#sk-container-id-1 div.sk-dashed-wrapped {border: 1px dashed gray;margin: 0 0.4em 0.5em 0.4em;box-sizing: border-box;padding-bottom: 0.4em;background-color: white;}#sk-container-id-1 div.sk-label label {font-family: monospace;font-weight: bold;display: inline-block;line-height: 1.2em;}#sk-container-id-1 div.sk-label-container {text-align: center;}#sk-container-id-1 div.sk-container {/* jupyter's `normalize.less` sets `[hidden] { display: none; }` but bootstrap.min.css set `[hidden] { display: none !important; }` so we also need the `!important` here to be able to override the default hidden behavior on the sphinx rendered scikit-learn.org. See: https://github.com/scikit-learn/scikit-learn/issues/21755 */display: inline-block !important;position: relative;}#sk-container-id-1 div.sk-text-repr-fallback {display: none;}</style><div id=\"sk-container-id-1\" class=\"sk-top-container\"><div class=\"sk-text-repr-fallback\"><pre>KMeans(n_clusters=10)</pre><b>In a Jupyter environment, please rerun this cell to show the HTML representation or trust the notebook. <br />On GitHub, the HTML representation is unable to render, please try loading this page with nbviewer.org.</b></div><div class=\"sk-container\" hidden><div class=\"sk-item\"><div class=\"sk-estimator sk-toggleable\"><input class=\"sk-toggleable__control sk-hidden--visually\" id=\"sk-estimator-id-1\" type=\"checkbox\" checked><label for=\"sk-estimator-id-1\" class=\"sk-toggleable__label sk-toggleable__label-arrow\">KMeans</label><div class=\"sk-toggleable__content\"><pre>KMeans(n_clusters=10)</pre></div></div></div></div></div>"
      ],
      "text/plain": [
       "KMeans(n_clusters=10)"
      ]
     },
     "execution_count": 31,
     "metadata": {},
     "output_type": "execute_result"
    }
   ],
   "source": [
    "kmeans = KMeans(n_clusters=10)\n",
    "\n",
    "kmeans.fit(X_test_normalized)"
   ]
  },
  {
   "cell_type": "code",
   "execution_count": 32,
   "metadata": {},
   "outputs": [],
   "source": [
    "ari_kmeans = adjusted_rand_score(Y_test, kmeans.labels_)"
   ]
  },
  {
   "cell_type": "code",
   "execution_count": 33,
   "metadata": {},
   "outputs": [
    {
     "name": "stdout",
     "output_type": "stream",
     "text": [
      "313/313 [==============================] - 0s 727us/step\n"
     ]
    }
   ],
   "source": [
    "encoder_model = Model(inputs=autoencoder.input, outputs=encoder_output)\n",
    "\n",
    "encoded_data = encoder_model.predict(X_test_normalized)"
   ]
  },
  {
   "cell_type": "code",
   "execution_count": 34,
   "metadata": {},
   "outputs": [
    {
     "name": "stderr",
     "output_type": "stream",
     "text": [
      "/home/javad/.local/lib/python3.11/site-packages/sklearn/cluster/_kmeans.py:1412: FutureWarning: The default value of `n_init` will change from 10 to 'auto' in 1.4. Set the value of `n_init` explicitly to suppress the warning\n",
      "  super()._check_params_vs_input(X, default_n_init=10)\n"
     ]
    },
    {
     "data": {
      "text/html": [
       "<style>#sk-container-id-2 {color: black;}#sk-container-id-2 pre{padding: 0;}#sk-container-id-2 div.sk-toggleable {background-color: white;}#sk-container-id-2 label.sk-toggleable__label {cursor: pointer;display: block;width: 100%;margin-bottom: 0;padding: 0.3em;box-sizing: border-box;text-align: center;}#sk-container-id-2 label.sk-toggleable__label-arrow:before {content: \"▸\";float: left;margin-right: 0.25em;color: #696969;}#sk-container-id-2 label.sk-toggleable__label-arrow:hover:before {color: black;}#sk-container-id-2 div.sk-estimator:hover label.sk-toggleable__label-arrow:before {color: black;}#sk-container-id-2 div.sk-toggleable__content {max-height: 0;max-width: 0;overflow: hidden;text-align: left;background-color: #f0f8ff;}#sk-container-id-2 div.sk-toggleable__content pre {margin: 0.2em;color: black;border-radius: 0.25em;background-color: #f0f8ff;}#sk-container-id-2 input.sk-toggleable__control:checked~div.sk-toggleable__content {max-height: 200px;max-width: 100%;overflow: auto;}#sk-container-id-2 input.sk-toggleable__control:checked~label.sk-toggleable__label-arrow:before {content: \"▾\";}#sk-container-id-2 div.sk-estimator input.sk-toggleable__control:checked~label.sk-toggleable__label {background-color: #d4ebff;}#sk-container-id-2 div.sk-label input.sk-toggleable__control:checked~label.sk-toggleable__label {background-color: #d4ebff;}#sk-container-id-2 input.sk-hidden--visually {border: 0;clip: rect(1px 1px 1px 1px);clip: rect(1px, 1px, 1px, 1px);height: 1px;margin: -1px;overflow: hidden;padding: 0;position: absolute;width: 1px;}#sk-container-id-2 div.sk-estimator {font-family: monospace;background-color: #f0f8ff;border: 1px dotted black;border-radius: 0.25em;box-sizing: border-box;margin-bottom: 0.5em;}#sk-container-id-2 div.sk-estimator:hover {background-color: #d4ebff;}#sk-container-id-2 div.sk-parallel-item::after {content: \"\";width: 100%;border-bottom: 1px solid gray;flex-grow: 1;}#sk-container-id-2 div.sk-label:hover label.sk-toggleable__label {background-color: #d4ebff;}#sk-container-id-2 div.sk-serial::before {content: \"\";position: absolute;border-left: 1px solid gray;box-sizing: border-box;top: 0;bottom: 0;left: 50%;z-index: 0;}#sk-container-id-2 div.sk-serial {display: flex;flex-direction: column;align-items: center;background-color: white;padding-right: 0.2em;padding-left: 0.2em;position: relative;}#sk-container-id-2 div.sk-item {position: relative;z-index: 1;}#sk-container-id-2 div.sk-parallel {display: flex;align-items: stretch;justify-content: center;background-color: white;position: relative;}#sk-container-id-2 div.sk-item::before, #sk-container-id-2 div.sk-parallel-item::before {content: \"\";position: absolute;border-left: 1px solid gray;box-sizing: border-box;top: 0;bottom: 0;left: 50%;z-index: -1;}#sk-container-id-2 div.sk-parallel-item {display: flex;flex-direction: column;z-index: 1;position: relative;background-color: white;}#sk-container-id-2 div.sk-parallel-item:first-child::after {align-self: flex-end;width: 50%;}#sk-container-id-2 div.sk-parallel-item:last-child::after {align-self: flex-start;width: 50%;}#sk-container-id-2 div.sk-parallel-item:only-child::after {width: 0;}#sk-container-id-2 div.sk-dashed-wrapped {border: 1px dashed gray;margin: 0 0.4em 0.5em 0.4em;box-sizing: border-box;padding-bottom: 0.4em;background-color: white;}#sk-container-id-2 div.sk-label label {font-family: monospace;font-weight: bold;display: inline-block;line-height: 1.2em;}#sk-container-id-2 div.sk-label-container {text-align: center;}#sk-container-id-2 div.sk-container {/* jupyter's `normalize.less` sets `[hidden] { display: none; }` but bootstrap.min.css set `[hidden] { display: none !important; }` so we also need the `!important` here to be able to override the default hidden behavior on the sphinx rendered scikit-learn.org. See: https://github.com/scikit-learn/scikit-learn/issues/21755 */display: inline-block !important;position: relative;}#sk-container-id-2 div.sk-text-repr-fallback {display: none;}</style><div id=\"sk-container-id-2\" class=\"sk-top-container\"><div class=\"sk-text-repr-fallback\"><pre>KMeans(n_clusters=10)</pre><b>In a Jupyter environment, please rerun this cell to show the HTML representation or trust the notebook. <br />On GitHub, the HTML representation is unable to render, please try loading this page with nbviewer.org.</b></div><div class=\"sk-container\" hidden><div class=\"sk-item\"><div class=\"sk-estimator sk-toggleable\"><input class=\"sk-toggleable__control sk-hidden--visually\" id=\"sk-estimator-id-2\" type=\"checkbox\" checked><label for=\"sk-estimator-id-2\" class=\"sk-toggleable__label sk-toggleable__label-arrow\">KMeans</label><div class=\"sk-toggleable__content\"><pre>KMeans(n_clusters=10)</pre></div></div></div></div></div>"
      ],
      "text/plain": [
       "KMeans(n_clusters=10)"
      ]
     },
     "execution_count": 34,
     "metadata": {},
     "output_type": "execute_result"
    }
   ],
   "source": [
    "kmeans_DAC = KMeans(n_clusters=10)\n",
    "\n",
    "kmeans_DAC.fit(encoded_data)"
   ]
  },
  {
   "cell_type": "code",
   "execution_count": 35,
   "metadata": {},
   "outputs": [],
   "source": [
    "ari_kmeans_DAC = adjusted_rand_score(Y_test, kmeans_DAC.labels_)"
   ]
  },
  {
   "cell_type": "code",
   "execution_count": 36,
   "metadata": {},
   "outputs": [
    {
     "name": "stdout",
     "output_type": "stream",
     "text": [
      "ARI for kmeans: 0.3780363560480308\n",
      "ARI for DAC: 0.39175889228349203\n"
     ]
    }
   ],
   "source": [
    "print(f'ARI for kmeans: {ari_kmeans}\\nARI for DAC: {ari_kmeans_DAC}')"
   ]
  },
  {
   "cell_type": "markdown",
   "metadata": {},
   "source": [
    "As expected, knowledge distillation happend again and K-means learnt from encoder part of autoencoder and its performance has been improved!"
   ]
  }
 ],
 "metadata": {
  "kernelspec": {
   "display_name": "Python 3",
   "language": "python",
   "name": "python3"
  },
  "language_info": {
   "codemirror_mode": {
    "name": "ipython",
    "version": 3
   },
   "file_extension": ".py",
   "mimetype": "text/x-python",
   "name": "python",
   "nbconvert_exporter": "python",
   "pygments_lexer": "ipython3",
   "version": "3.11.6"
  }
 },
 "nbformat": 4,
 "nbformat_minor": 2
}
